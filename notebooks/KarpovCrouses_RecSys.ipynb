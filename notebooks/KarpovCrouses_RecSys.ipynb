{
 "cells": [
  {
   "attachments": {},
   "cell_type": "markdown",
   "metadata": {},
   "source": [
    "# KarpovCourses RecSys by Vladimir Polukhin\n",
    "### Добро пожаловать, меня зовут Владимир. Данный проект создан в рамках прохождения курса Start ML после заверешения изучения первых двух модулей, которые захватывают такие темы, как 'Прикладная разработка на Python' и 'Классическое машинное обучение и приложения'. \n",
    "### Перед просмотром данного ноутбука следует заглянуть в data_exploring.ipynb, чтобы понять, почему именно такие действия я совершаю с данными\n",
    "##### Для полного запуска ноутбука рекомендуется не мнее 32gb RAM!!!"
   ]
  },
  {
   "attachments": {},
   "cell_type": "markdown",
   "metadata": {},
   "source": [
    "# Необходимые библиотеки\n",
    "##### См. requirements.txt"
   ]
  },
  {
   "cell_type": "code",
   "execution_count": null,
   "metadata": {},
   "outputs": [],
   "source": [
    "import os\n",
    "\n",
    "import numpy as np\n",
    "import pandas as pd\n",
    "import seaborn as sns\n",
    "import texthero as hero\n",
    "from sklearn.model_selection import train_test_split\n",
    "from sklearn.metrics import RocCurveDisplay, PrecisionRecallDisplay, accuracy_score\n",
    "from catboost import CatBoostClassifier"
   ]
  },
  {
   "attachments": {},
   "cell_type": "markdown",
   "metadata": {},
   "source": [
    "# База Данных"
   ]
  },
  {
   "cell_type": "code",
   "execution_count": null,
   "metadata": {},
   "outputs": [],
   "source": [
    "database = os.getenv('POSTGRES_KEY')"
   ]
  },
  {
   "attachments": {},
   "cell_type": "markdown",
   "metadata": {},
   "source": [
    "# Обработка user_data"
   ]
  },
  {
   "attachments": {},
   "cell_type": "markdown",
   "metadata": {},
   "source": [
    "##### age - Возраст пользователя (в профиле)\n",
    "##### city - Город пользователя (в профиле)\n",
    "##### country - Страна пользователя (в профиле)\n",
    "##### exp_group - Экспериментальная группа: некоторая зашифрованная категория\n",
    "##### gender - Пол пользователя\n",
    "##### id - Уникальный идентификатор пользователя\n",
    "##### os - Операционная система устройства, с которого происходит пользование соц.сетью\n",
    "##### source - Пришел ли пользователь в приложение с органического трафика или с рекламы"
   ]
  },
  {
   "cell_type": "code",
   "execution_count": null,
   "metadata": {},
   "outputs": [],
   "source": [
    "user_data = pd.read_sql(\n",
    "    'SELECT * FROM user_data',\n",
    "    database\n",
    ")\n",
    "\n",
    "users_like_rate = pd.read_sql(\n",
    "    '''\n",
    "    SELECT user_id, SUM(target), COUNT(target)\n",
    "    FROM feed_data\n",
    "    GROUP BY user_id\n",
    "    ''',\n",
    "    database\n",
    ")"
   ]
  },
  {
   "cell_type": "code",
   "execution_count": null,
   "metadata": {},
   "outputs": [],
   "source": [
    "user_data"
   ]
  },
  {
   "cell_type": "code",
   "execution_count": null,
   "metadata": {},
   "outputs": [],
   "source": [
    "user_data = user_data.drop(['os', 'source', 'gender', 'exp_group'], axis=1)"
   ]
  },
  {
   "cell_type": "code",
   "execution_count": null,
   "metadata": {},
   "outputs": [],
   "source": [
    "user_data = pd.concat((user_data, pd.DataFrame(users_like_rate['sum'] / users_like_rate['count'], columns=['user_like_rate'])), axis=1)"
   ]
  },
  {
   "cell_type": "markdown",
   "metadata": {},
   "source": [
    "# Обработка post_text"
   ]
  },
  {
   "cell_type": "markdown",
   "metadata": {},
   "source": [
    "##### id - Уникальный идентификатор поста\n",
    "##### text - Текстовое содержание поста\n",
    "##### topic - Основная тематика"
   ]
  },
  {
   "cell_type": "code",
   "execution_count": null,
   "metadata": {},
   "outputs": [],
   "source": [
    "post_text = pd.read_sql(\n",
    "    'SELECT * FROM post_text_df',\n",
    "    database\n",
    ")\n",
    "\n",
    "posts_like_rate = pd.read_sql(\n",
    "    '''\n",
    "    SELECT post_id, SUM(target), COUNT(target)\n",
    "    FROM feed_data\n",
    "    GROUP BY post_id\n",
    "    ''',\n",
    "    database\n",
    ")"
   ]
  },
  {
   "cell_type": "code",
   "execution_count": null,
   "metadata": {},
   "outputs": [],
   "source": [
    "post_text"
   ]
  },
  {
   "cell_type": "code",
   "execution_count": null,
   "metadata": {},
   "outputs": [],
   "source": [
    "post_text['text'] = hero.clean(post_text['text'])\n",
    "tfidf_text = hero.tfidf(post_text['text'])"
   ]
  },
  {
   "cell_type": "code",
   "execution_count": null,
   "metadata": {},
   "outputs": [],
   "source": [
    "tfidf_text_mean_list = []\n",
    "\n",
    "for tf_idf in tfidf_text:\n",
    "    tfidf_text_mean_list.append(np.mean(tf_idf))\n",
    "\n",
    "post_text['text'] = pd.DataFrame(tfidf_text_mean_list, columns=['tfidf'])"
   ]
  },
  {
   "cell_type": "code",
   "execution_count": null,
   "metadata": {},
   "outputs": [],
   "source": [
    "post_text = pd.concat((post_text.drop('topic', axis=1), pd.get_dummies(post_text['topic'])), axis=1)"
   ]
  },
  {
   "cell_type": "code",
   "execution_count": null,
   "metadata": {},
   "outputs": [],
   "source": [
    "posts_like_rate = pd.concat((posts_like_rate.drop(['sum', 'count'], axis=1), pd.DataFrame(posts_like_rate['sum'] / posts_like_rate['count'], columns=['post_like_rate'])), axis=1)"
   ]
  },
  {
   "cell_type": "code",
   "execution_count": null,
   "metadata": {},
   "outputs": [],
   "source": [
    "temporary_post_text = pd.merge(post_text, posts_like_rate, on='post_id')"
   ]
  },
  {
   "cell_type": "code",
   "execution_count": null,
   "metadata": {},
   "outputs": [],
   "source": [
    "post_text = temporary_post_text[temporary_post_text['post_like_rate'] > 0.095418]"
   ]
  },
  {
   "cell_type": "markdown",
   "metadata": {},
   "source": [
    "# Загрузка post_feed"
   ]
  },
  {
   "cell_type": "markdown",
   "metadata": {},
   "source": [
    "##### timestamp - Время, когда был произведен просмотр\n",
    "##### user_id - id пользователя, который совершил просмотр\n",
    "##### post_id - id просмотренного поста\n",
    "##### action - Тип действия: просмотр или лайк\n",
    "##### target - 1 у просмотров, если почти сразу после просмотра был совершен лайк, иначе 0. У действий like пропущенное значение."
   ]
  },
  {
   "cell_type": "code",
   "execution_count": null,
   "metadata": {},
   "outputs": [],
   "source": [
    "feed_data = pd.read_sql(\n",
    "    '''\n",
    "    SELECT user_id, post_id, target\n",
    "    FROM feed_data\n",
    "    WHERE action = 'view'\n",
    "    ORDER BY timestamp\n",
    "    ''',\n",
    "    database\n",
    ")"
   ]
  },
  {
   "cell_type": "markdown",
   "metadata": {},
   "source": [
    "# Соединение таблиц в один датасет"
   ]
  },
  {
   "cell_type": "code",
   "execution_count": null,
   "metadata": {},
   "outputs": [],
   "source": [
    "temporary_data = pd.merge(feed_data, user_data, on='user_id')\n",
    "data = pd.merge(temporary_data, post_text, on='post_id')"
   ]
  },
  {
   "cell_type": "code",
   "execution_count": null,
   "metadata": {},
   "outputs": [],
   "source": [
    "data"
   ]
  },
  {
   "cell_type": "code",
   "execution_count": null,
   "metadata": {},
   "outputs": [],
   "source": [
    "data['city'] = data.groupby('city')['target'].transform('mean')\n",
    "data['country'] = data.groupby('country')['target'].transform('mean')\n",
    "data['topic'] = data.groupby('topic')['target'].transform('mean')"
   ]
  },
  {
   "cell_type": "markdown",
   "metadata": {},
   "source": [
    "##### Данный порог установлен для того, чтобы сократить количество записей в датасете, при этом оставив информацию о каждом юзере"
   ]
  },
  {
   "cell_type": "code",
   "execution_count": null,
   "metadata": {},
   "outputs": [],
   "source": [
    "temporary_data = data[data['post_like_rate'] > 0.13347]\n",
    "data = temporary_data[temporary_data['text'] > 0.0000636]"
   ]
  },
  {
   "cell_type": "markdown",
   "metadata": {},
   "source": [
    "# Обучение модели"
   ]
  },
  {
   "cell_type": "code",
   "execution_count": null,
   "metadata": {},
   "outputs": [],
   "source": [
    "data['target'].value_counts()"
   ]
  },
  {
   "cell_type": "markdown",
   "metadata": {},
   "source": [
    "##### Неравномерное распределение таргета -> нужно использовать сбалансированные веса в моделе"
   ]
  },
  {
   "cell_type": "code",
   "execution_count": null,
   "metadata": {},
   "outputs": [],
   "source": [
    "X = data.drop('target', axis=1)\n",
    "y = data['target']"
   ]
  },
  {
   "cell_type": "code",
   "execution_count": null,
   "metadata": {},
   "outputs": [],
   "source": [
    "X_train, X_test, y_train, y_test = train_test_split(X, y, test_size=0.2, random_state=1, shuffle=True)"
   ]
  },
  {
   "cell_type": "code",
   "execution_count": null,
   "metadata": {},
   "outputs": [],
   "source": [
    "model = CatBoostClassifier(auto_class_weights='Balanced', depth=6, l2_leaf_reg=0.2, early_stopping_rounds=15, learning_rate=0.5, iterations=2000, random_state=1)"
   ]
  },
  {
   "cell_type": "code",
   "execution_count": null,
   "metadata": {},
   "outputs": [],
   "source": [
    "model.fit(X_train, y_train)"
   ]
  },
  {
   "cell_type": "markdown",
   "metadata": {},
   "source": [
    "# Замер ROC-AUC, PR-AUC и accuracy"
   ]
  },
  {
   "cell_type": "code",
   "execution_count": null,
   "metadata": {},
   "outputs": [],
   "source": [
    "RocCurveDisplay.from_estimator(model, X_train, y_train)"
   ]
  },
  {
   "cell_type": "code",
   "execution_count": null,
   "metadata": {},
   "outputs": [],
   "source": [
    "PrecisionRecallDisplay.from_estimator(model, X_train, y_train)"
   ]
  },
  {
   "cell_type": "code",
   "execution_count": null,
   "metadata": {},
   "outputs": [],
   "source": [
    "round(accuracy_score(y_test, model.predict(X_test)), 4), round(accuracy_score(y_test, model.predict(X_train)), 4)"
   ]
  },
  {
   "cell_type": "markdown",
   "metadata": {},
   "source": [
    "##### Также стоит отметить, что основной метрикой проекта является hitrate:\n",
    "##### Она принимает значение 1, если среди предложенных 5 рекомендаций хотя бы 1 получила в итоге like от пользователя. Даже если все 5 предложенных постов в итоге будут оценены пользователем, все равно hitrate будет равен 1. Метрика бинарная! В противном случае, если ни один из предложенных постов не был оценен пользователем, hitrate  принимает значение 0. "
   ]
  },
  {
   "cell_type": "markdown",
   "metadata": {},
   "source": [
    "# Сохранение модели"
   ]
  },
  {
   "cell_type": "code",
   "execution_count": null,
   "metadata": {},
   "outputs": [],
   "source": [
    "model.save_model('balanced_model', \n",
    "                 format=\"cbm\")"
   ]
  }
 ],
 "metadata": {
  "kernelspec": {
   "display_name": "base",
   "language": "python",
   "name": "python3"
  },
  "language_info": {
   "codemirror_mode": {
    "name": "ipython",
    "version": 3
   },
   "file_extension": ".py",
   "mimetype": "text/x-python",
   "name": "python",
   "nbconvert_exporter": "python",
   "pygments_lexer": "ipython3",
   "version": "3.9.13"
  },
  "orig_nbformat": 4
 },
 "nbformat": 4,
 "nbformat_minor": 2
}
